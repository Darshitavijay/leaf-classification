{
  "nbformat": 4,
  "nbformat_minor": 0,
  "metadata": {
    "colab": {
      "provenance": [],
      "mount_file_id": "15z1OLwcUXIJ7B7XExObVAVjKcWnR1kFE",
      "authorship_tag": "ABX9TyOIxGcQLW6zA3lQjXWtTtkV",
      "include_colab_link": true
    },
    "kernelspec": {
      "name": "python3",
      "display_name": "Python 3"
    },
    "language_info": {
      "name": "python"
    }
  },
  "cells": [
    {
      "cell_type": "markdown",
      "metadata": {
        "id": "view-in-github",
        "colab_type": "text"
      },
      "source": [
        "<a href=\"https://colab.research.google.com/github/Darshix9/leaf-classification/blob/main/Major_project2.ipynb\" target=\"_parent\"><img src=\"https://colab.research.google.com/assets/colab-badge.svg\" alt=\"Open In Colab\"/></a>"
      ]
    },
    {
      "cell_type": "code",
      "metadata": {
        "colab": {
          "base_uri": "https://localhost:8080/"
        },
        "id": "kXzUco43eySU",
        "outputId": "52c7cedb-0622-4369-f967-9e5f8168878e"
      },
      "source": [
        "!pip install streamlit --quiet\n",
        "!pip install pyngrok==4.1.1 --quiet\n",
        "#!pip install streamlit-drawable-canvas --quiet\n",
        "from pyngrok import ngrok"
      ],
      "execution_count": null,
      "outputs": [
        {
          "output_type": "stream",
          "text": [
            "\u001b[K     |████████████████████████████████| 6.6 MB 2.9 MB/s \n",
            "\u001b[K     |████████████████████████████████| 4.2 MB 51.3 MB/s \n",
            "\u001b[K     |████████████████████████████████| 75 kB 3.0 MB/s \n",
            "\u001b[K     |████████████████████████████████| 111 kB 50.1 MB/s \n",
            "\u001b[K     |████████████████████████████████| 170 kB 43.7 MB/s \n",
            "\u001b[K     |████████████████████████████████| 122 kB 37.5 MB/s \n",
            "\u001b[K     |████████████████████████████████| 786 kB 58.7 MB/s \n",
            "\u001b[K     |████████████████████████████████| 368 kB 40.3 MB/s \n",
            "\u001b[K     |████████████████████████████████| 63 kB 1.6 MB/s \n",
            "\u001b[?25h  Building wheel for blinker (setup.py) ... \u001b[?25l\u001b[?25hdone\n",
            "\u001b[31mERROR: pip's dependency resolver does not currently take into account all the packages that are installed. This behaviour is the source of the following dependency conflicts.\n",
            "jupyter-console 5.2.0 requires prompt-toolkit<2.0.0,>=1.0.0, but you have prompt-toolkit 3.0.19 which is incompatible.\n",
            "google-colab 1.0.0 requires ipykernel~=4.10, but you have ipykernel 6.0.3 which is incompatible.\n",
            "google-colab 1.0.0 requires ipython~=5.5.0, but you have ipython 7.25.0 which is incompatible.\u001b[0m\n",
            "  Building wheel for pyngrok (setup.py) ... \u001b[?25l\u001b[?25hdone\n"
          ],
          "name": "stdout"
        }
      ]
    },
    {
      "cell_type": "code",
      "metadata": {
        "colab": {
          "base_uri": "https://localhost:8080/"
        },
        "id": "5tFL7kLEe7Iy",
        "outputId": "3ff34fbc-d9b2-4d16-dc3f-40bc4f08a23a"
      },
      "source": [
        "%%writefile app.py\n",
        "from PIL import Image\n",
        "import cv2\n",
        "import numpy as np\n",
        "import streamlit as st\n",
        "from tensorflow import keras\n",
        "from tensorflow.keras.preprocessing.image import load_img,img_to_array\n",
        "from keras.preprocessing import image\n",
        "\n",
        "model_2 =  keras.models.load_model('/content/drive/MyDrive/major project/leafclassification.hdf5')\n",
        "st.title('Bean Classification')\n",
        "st.markdown('This model classifies the type of bean. It utliizes Images of Bean Dataset. \\\n",
        "            Image Augmentation were also done here so that the model could be much more versatile.')\n",
        "upload = st.sidebar.file_uploader(label='Upload the Image')\n",
        "\n",
        "def probablility(p):\n",
        "    if p[0] > 0.5:\n",
        "        return round((p[0]*100),2)\n",
        "    else:\n",
        "        return round(((1-p[0])*100),2)\n",
        "\n",
        "\n",
        "if upload is not None:\n",
        "    file_bytes = np.asarray(bytearray(upload.read()), dtype=np.uint8)\n",
        "    opencv_image = cv2.imdecode(file_bytes, 1)\n",
        "    opencv_image = cv2.cvtColor(opencv_image,cv2.COLOR_BGR2RGB)\n",
        "    img = Image.open(upload)\n",
        "    st.image(img,caption='Uploaded Image',width=300)\n",
        "    label= 'Bean Type'.split()\n",
        "    label2= 'Left Right'.split()\n",
        "    if st.sidebar.button('PREDICT'):\n",
        "        z = image.img_to_array(opencv_image)\n",
        "        z = cv2.resize(z,(224,224))\n",
        "        x = z.reshape(1,224,224,3)\n",
        "        y = model_2.predict(x)\n",
        "        st.markdown('The model is **'+str(probablility(y[0]))+'%**  sure that the condition is '+'**'+str(label[(model_2.predict(x) > 0.5).astype(\"int32\")[0][0]])+'** ')\n"
      ],
      "execution_count": null,
      "outputs": [
        {
          "output_type": "stream",
          "text": [
            "Writing app.py\n"
          ],
          "name": "stdout"
        }
      ]
    },
    {
      "cell_type": "code",
      "metadata": {
        "id": "gdL2j0Zfg7u_",
        "outputId": "9729beb3-be23-44f4-a597-8dbb1b326e2b",
        "colab": {
          "base_uri": "https://localhost:8080/",
          "height": 52
        }
      },
      "source": [
        "!nohup streamlit run app.py &\n",
        "url = ngrok.connect(port='8501')\n",
        "url"
      ],
      "execution_count": null,
      "outputs": [
        {
          "output_type": "stream",
          "text": [
            "nohup: appending output to 'nohup.out'\n"
          ],
          "name": "stdout"
        },
        {
          "output_type": "execute_result",
          "data": {
            "application/vnd.google.colaboratory.intrinsic+json": {
              "type": "string"
            },
            "text/plain": [
              "'http://cc32adf49191.ngrok.io'"
            ]
          },
          "metadata": {
            "tags": []
          },
          "execution_count": 3
        }
      ]
    }
  ]
}